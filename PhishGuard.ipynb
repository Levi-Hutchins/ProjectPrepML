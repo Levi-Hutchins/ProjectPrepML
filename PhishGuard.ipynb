{
 "cells": [
  {
   "cell_type": "code",
   "execution_count": 12,
   "metadata": {},
   "outputs": [],
   "source": [
    "import pandas as pd\n",
    "from sklearn.model_selection import train_test_split\n",
    "from sklearn.neighbors import KNeighborsClassifier\n",
    "import matplotlib.pyplot as plt\n",
    "from matplotlib.colors import ListedColormap\n",
    "from sklearn.utils import shuffle\n",
    "from sklearn.model_selection import train_test_split\n",
    "from sklearn.neighbors import RadiusNeighborsClassifier\n",
    "\n",
    "from sklearn.model_selection import GridSearchCV\n",
    "\n",
    "from sklearn import metrics \n",
    "from sklearn.metrics import confusion_matrix\n",
    "from sklearn.metrics import classification_report\n",
    "from sklearn.metrics import roc_auc_score\n",
    "\n",
    "from sklearn.preprocessing import StandardScaler"
   ]
  },
  {
   "cell_type": "code",
   "execution_count": 13,
   "metadata": {},
   "outputs": [],
   "source": [
    "df = shuffle(pd.read_csv(\"./datasets/phish_guard.csv\"))\n",
    "\n",
    "X = df.drop(\"target\", axis=1)\n",
    "Y = df[\"target\"]\n",
    "\n",
    "\n",
    "X.dropna()\n",
    "Y.dropna()\n",
    "\n",
    "X.drop_duplicates()\n",
    "Y.drop_duplicates()\n",
    "\n",
    "X_train, X_test, y_train, y_test = train_test_split(X, Y, train_size=0.8, test_size=0.2, shuffle=True)\n"
   ]
  },
  {
   "cell_type": "code",
   "execution_count": 14,
   "metadata": {},
   "outputs": [],
   "source": [
    "default_knn = KNeighborsClassifier()\n",
    "default_knn.fit(X_train,y_train)\n",
    "y_pred_knn_default  = default_knn.predict(X_test)"
   ]
  },
  {
   "cell_type": "code",
   "execution_count": 15,
   "metadata": {},
   "outputs": [],
   "source": [
    "estimator = KNeighborsClassifier(algorithm='auto')\n",
    "\n",
    "parameters_KNN = {\n",
    "    'n_neighbors': (1,10, 1),\n",
    "    'leaf_size': (20,40,1),\n",
    "    'p': (1,2),\n",
    "    'weights': ('uniform', 'distance'),\n",
    "    'metric': ('minkowski', 'chebyshev')\n",
    "}\n",
    "grid_search_KNN = GridSearchCV(\n",
    "    estimator=estimator,\n",
    "    param_grid=parameters_KNN,\n",
    "    scoring = 'accuracy',\n",
    "    n_jobs = -1,\n",
    "    cv = 5\n",
    ")"
   ]
  },
  {
   "cell_type": "code",
   "execution_count": 16,
   "metadata": {},
   "outputs": [
    {
     "name": "stdout",
     "output_type": "stream",
     "text": [
      "{'leaf_size': 1, 'metric': 'minkowski', 'n_neighbors': 10, 'p': 1, 'weights': 'distance'}\n",
      "Best Score - KNN: 0.8577889447236181\n"
     ]
    }
   ],
   "source": [
    "KNN_1=grid_search_KNN.fit(X_train, y_train)\n",
    "y_pred_KNN1 =KNN_1.predict(X_test)\n",
    "KNN_2=grid_search_KNN.fit(X_train, y_train)\n",
    "y_pred_KNN2 =KNN_2.predict(X_test)\n",
    "KNN_3=grid_search_KNN.fit(X_train, y_train)\n",
    "y_pred_KNN3 =KNN_3.predict(X_test)\n",
    "# We can not display the best parameters for KNN classifier\n",
    "print(grid_search_KNN.best_params_ ) \n",
    "# mean cross validated score of the best estimator\n",
    "print('Best Score - KNN:', grid_search_KNN.best_score_ )"
   ]
  },
  {
   "cell_type": "code",
   "execution_count": 17,
   "metadata": {},
   "outputs": [
    {
     "name": "stdout",
     "output_type": "stream",
     "text": [
      "Accuracy Score - KNN Default: 0.8554216867469879\n",
      "Accuracy Score - KNN_1: 0.891566265060241\n",
      "Accuracy Score - KNN_2: 0.891566265060241\n",
      "Accuracy Score - KNN _3:  0.891566265060241\n"
     ]
    }
   ],
   "source": [
    "print('Accuracy Score - KNN Default:', metrics.accuracy_score(y_test, y_pred_knn_default))  \n",
    "print('Accuracy Score - KNN_1:', metrics.accuracy_score(y_test, y_pred_KNN1)) \n",
    "print('Accuracy Score - KNN_2:', metrics.accuracy_score(y_test, y_pred_KNN2)) \n",
    "print('Accuracy Score - KNN _3: ', metrics.accuracy_score(y_test, y_pred_KNN3)) "
   ]
  },
  {
   "cell_type": "code",
   "execution_count": 18,
   "metadata": {},
   "outputs": [
    {
     "name": "stdout",
     "output_type": "stream",
     "text": [
      "{'leaf_size': 1, 'metric': 'minkowski', 'n_neighbors': 10, 'p': 1, 'weights': 'distance'}\n"
     ]
    }
   ],
   "source": [
    "print(KNN_1.best_params_)"
   ]
  }
 ],
 "metadata": {
  "kernelspec": {
   "display_name": "Python 3",
   "language": "python",
   "name": "python3"
  },
  "language_info": {
   "codemirror_mode": {
    "name": "ipython",
    "version": 3
   },
   "file_extension": ".py",
   "mimetype": "text/x-python",
   "name": "python",
   "nbconvert_exporter": "python",
   "pygments_lexer": "ipython3",
   "version": "3.11.4"
  }
 },
 "nbformat": 4,
 "nbformat_minor": 2
}
