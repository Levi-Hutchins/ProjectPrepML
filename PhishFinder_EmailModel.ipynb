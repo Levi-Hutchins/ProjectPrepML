{
 "cells": [
  {
   "cell_type": "code",
   "execution_count": 117,
   "metadata": {},
   "outputs": [
    {
     "data": {
      "text/plain": [
       "<bound method DataFrame.info of        Unnamed: 0                                         Email Text   \n",
       "17744       17745  we are the only online pharmacy offering \" 100...  \\\n",
       "250           250  award / winning notification de lotto , laan v...   \n",
       "16629       16630  <!--\\n body      { BACKGROUND-IMAGE: \\nurl(htt...   \n",
       "14598       14599  get more orders for anything you sell reach th...   \n",
       "7515         7516  juust medz hello , welcome to otherwhence phar...   \n",
       "...           ...                                                ...   \n",
       "10080       10081  aiml ' 98 : final call for participation final...   \n",
       "8400         8401  confidant universal credit trust bank 553 east...   \n",
       "15259       15260  re : first delivery - wheeler operating vance ...   \n",
       "9448         9449  claim your free $ 1000 home depot gift card . ...   \n",
       "14184       14185  URL: http://diveintomark.org/archives/2002/10/...   \n",
       "\n",
       "           Email Type  \n",
       "17744  Phishing Email  \n",
       "250    Phishing Email  \n",
       "16629      Safe Email  \n",
       "14598  Phishing Email  \n",
       "7515   Phishing Email  \n",
       "...               ...  \n",
       "10080      Safe Email  \n",
       "8400   Phishing Email  \n",
       "15259      Safe Email  \n",
       "9448   Phishing Email  \n",
       "14184      Safe Email  \n",
       "\n",
       "[18650 rows x 3 columns]>"
      ]
     },
     "execution_count": 117,
     "metadata": {},
     "output_type": "execute_result"
    }
   ],
   "source": [
    "import pandas as pd\n",
    "import numpy as np\n",
    "from sklearn.utils import shuffle\n",
    "from sklearn.model_selection import train_test_split\n",
    "\n",
    "df = shuffle(pd.read_csv(\"./datasets/Phishing_Email.csv\"))\n",
    "\n",
    "df.head\n",
    "\n",
    "df.info"
   ]
  },
  {
   "cell_type": "code",
   "execution_count": 118,
   "metadata": {},
   "outputs": [
    {
     "name": "stdout",
     "output_type": "stream",
     "text": [
      "16\n",
      "18650\n",
      "18650\n"
     ]
    }
   ],
   "source": [
    "df = df.drop(\"Unnamed: 0\",axis=1)\n",
    "# Null values within dataset - need to remove them before training\n",
    "print(df[\"Email Text\"].isnull().sum())\n",
    "\n",
    "index = pd.Index(df[\"Email Text\"])\n",
    "\n",
    "print(np.count_nonzero(index))\n",
    "print(len(index))\n",
    "\n"
   ]
  },
  {
   "cell_type": "code",
   "execution_count": 119,
   "metadata": {},
   "outputs": [
    {
     "name": "stdout",
     "output_type": "stream",
     "text": [
      "17744    1\n",
      "250      1\n",
      "16629    0\n",
      "14598    1\n",
      "7515     1\n",
      "        ..\n",
      "10080    0\n",
      "8400     1\n",
      "15259    0\n",
      "9448     1\n",
      "14184    0\n",
      "Name: Email Type, Length: 18634, dtype: int64\n",
      "(18634,) (18634,)\n"
     ]
    }
   ],
   "source": [
    "\n",
    "df = df.dropna()\n",
    "df[df.isnull().any(axis=1)]\n",
    "\n",
    "\n",
    "X = df[\"Email Text\"]\n",
    "Y = df[\"Email Type\"].map({\"Phishing Email\": 1, \"Safe Email\":0})\n",
    "\n",
    "print(Y)\n",
    "\n",
    "print(X.shape, Y.shape)"
   ]
  },
  {
   "cell_type": "code",
   "execution_count": 120,
   "metadata": {},
   "outputs": [],
   "source": [
    "X_train, X_test, y_train, y_test = train_test_split(X, Y, train_size=0.8, test_size=0.2, shuffle=True)\n",
    "\n",
    "from sklearn.feature_extraction.text import CountVectorizer\n",
    "from sklearn.naive_bayes import MultinomialNB\n",
    "from sklearn.linear_model import LogisticRegression\n",
    "from sklearn.ensemble import RandomForestClassifier\n",
    "\n",
    "counter = CountVectorizer()\n",
    "counter.fit(X_train)\n",
    "\n",
    "X_test_transformed = counter.transform(X_test)\n",
    "\n",
    "X_train = counter.transform(X_train)\n",
    "\n",
    "\n",
    "multinomial_model = MultinomialNB()\n",
    "logistic_reg_model = LogisticRegression(max_iter=1000)\n",
    "random_forest = RandomForestClassifier(n_estimators=100)\n",
    "\n",
    "\n",
    "\n"
   ]
  },
  {
   "cell_type": "code",
   "execution_count": 121,
   "metadata": {},
   "outputs": [
    {
     "name": "stdout",
     "output_type": "stream",
     "text": [
      "Random Forest\n",
      "0.9522404078347196\n",
      "Logistic Regression\n",
      "0.9688757713979071\n",
      "MultinomialNB\n",
      "0.9659243359270191\n"
     ]
    }
   ],
   "source": [
    "\n",
    "print(\"Random Forest\")\n",
    "random_forest.fit(X_train, y_train)\n",
    "random_forest.predict(X_test_transformed)\n",
    "print(random_forest.score(X_test_transformed, y_test))\n",
    "\n",
    "print(\"Logistic Regression\")\n",
    "logistic_reg_model.fit(X_train, y_train)\n",
    "logistic_reg_model.predict(X_test_transformed)\n",
    "print(logistic_reg_model.score(X_test_transformed,y_test))\n",
    "\n",
    "print(\"MultinomialNB\")\n",
    "multinomial_model.fit(X_train, y_train)\n",
    "multinomial_model.predict(X_test_transformed)\n",
    "print(multinomial_model.score(X_test_transformed, y_test))"
   ]
  },
  {
   "cell_type": "code",
   "execution_count": 122,
   "metadata": {},
   "outputs": [
    {
     "name": "stdout",
     "output_type": "stream",
     "text": [
      "[0]\n",
      "[[0.67690193 0.32309807]]\n"
     ]
    }
   ],
   "source": [
    "test = \"Hey John just checking if you have finished your letter for the CEO\"\n",
    "\n",
    "test_pred = counter.transform([test])\n",
    "print(multinomial_model.predict(test_pred))\n",
    "print(multinomial_model.predict_proba(test_pred))"
   ]
  }
 ],
 "metadata": {
  "kernelspec": {
   "display_name": "Python 3",
   "language": "python",
   "name": "python3"
  },
  "language_info": {
   "codemirror_mode": {
    "name": "ipython",
    "version": 3
   },
   "file_extension": ".py",
   "mimetype": "text/x-python",
   "name": "python",
   "nbconvert_exporter": "python",
   "pygments_lexer": "ipython3",
   "version": "3.11.4"
  }
 },
 "nbformat": 4,
 "nbformat_minor": 2
}
